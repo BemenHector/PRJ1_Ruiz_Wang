{
 "cells": [
  {
   "cell_type": "markdown",
   "id": "91a56849",
   "metadata": {},
   "source": [
    "# Exercici 1"
   ]
  },
  {
   "cell_type": "code",
   "execution_count": 7,
   "id": "ff330d40",
   "metadata": {},
   "outputs": [],
   "source": [
    "def suma_multi (a,b):\n",
    "    suma = a + b\n",
    "    multi = a * b\n",
    "    \n",
    "    if multi <= 1000:\n",
    "        print(\"La multiplicació és:\", multi)\n",
    "    else:\n",
    "        print(\"La suma és:\", suma)"
   ]
  },
  {
   "cell_type": "code",
   "execution_count": 8,
   "id": "e368ff0c",
   "metadata": {},
   "outputs": [
    {
     "name": "stdout",
     "output_type": "stream",
     "text": [
      "La multiplicació és: 72\n"
     ]
    }
   ],
   "source": [
    "suma_multi (9,8)"
   ]
  },
  {
   "cell_type": "markdown",
   "id": "60fc2793",
   "metadata": {},
   "source": [
    "# Exercici 2"
   ]
  },
  {
   "cell_type": "code",
   "execution_count": 12,
   "id": "925fc26e",
   "metadata": {},
   "outputs": [
    {
     "name": "stdout",
     "output_type": "stream",
     "text": [
      "1,2,3,4,5,6,7,8,9,10,11,12,13,14,15,"
     ]
    }
   ],
   "source": [
    "a = 1\n",
    "    \n",
    "while(a <= 15):\n",
    "    print(a, end=\",\")\n",
    "    a += 1"
   ]
  },
  {
   "cell_type": "markdown",
   "id": "98b4f2c3",
   "metadata": {},
   "source": [
    "# Exercici 3"
   ]
  },
  {
   "cell_type": "code",
   "execution_count": 15,
   "id": "870bc3bb",
   "metadata": {},
   "outputs": [
    {
     "name": "stdout",
     "output_type": "stream",
     "text": [
      "1,2,3,4,5,6,7,8,9,10,11,12,13,14,15,"
     ]
    }
   ],
   "source": [
    "a = 1\n",
    "    \n",
    "for a in range (1,16):\n",
    "    print(a, end=\",\")"
   ]
  },
  {
   "cell_type": "markdown",
   "id": "3843aac4",
   "metadata": {},
   "source": [
    "# Exercici 4"
   ]
  },
  {
   "cell_type": "code",
   "execution_count": 16,
   "id": "25c561af",
   "metadata": {
    "scrolled": false
   },
   "outputs": [
    {
     "name": "stdout",
     "output_type": "stream",
     "text": [
      "Ingrese el número 10\n",
      "El resultado es: 55\n"
     ]
    }
   ],
   "source": [
    "a = int(input('Ingrese el número '))\n",
    "\n",
    "print(\"El resultado es:\", a*(a+1)//2)"
   ]
  },
  {
   "cell_type": "markdown",
   "id": "25bfd8f9",
   "metadata": {},
   "source": [
    "# Exercici 5"
   ]
  },
  {
   "cell_type": "code",
   "execution_count": 22,
   "id": "1c9c44c7",
   "metadata": {},
   "outputs": [
    {
     "name": "stdout",
     "output_type": "stream",
     "text": [
      "Ingrese el número 2\n",
      "2 * 0 = 0\n",
      "2 * 1 = 2\n",
      "2 * 2 = 4\n",
      "2 * 3 = 6\n",
      "2 * 4 = 8\n",
      "2 * 5 = 10\n",
      "2 * 6 = 12\n",
      "2 * 7 = 14\n",
      "2 * 8 = 16\n",
      "2 * 9 = 18\n",
      "2 * 10 = 20\n"
     ]
    }
   ],
   "source": [
    "a = int(input('Ingrese el número '))\n",
    "b = 0\n",
    "resultado = 0\n",
    "\n",
    "for b in range (0,11):\n",
    "    resultado = a * b\n",
    "    print(a, \"*\", b, \"=\", resultado)"
   ]
  },
  {
   "cell_type": "markdown",
   "id": "3d91aca8",
   "metadata": {},
   "source": [
    "# Exercici 6"
   ]
  },
  {
   "cell_type": "code",
   "execution_count": 33,
   "id": "5f286e69",
   "metadata": {
    "scrolled": true
   },
   "outputs": [
    {
     "data": {
      "text/plain": [
       "[100, 80, 60, 20]"
      ]
     },
     "execution_count": 33,
     "metadata": {},
     "output_type": "execute_result"
    }
   ],
   "source": [
    "lista = [20,60,80,100]\n",
    "\n",
    "list(reversed(lista))\n",
    "    "
   ]
  },
  {
   "cell_type": "markdown",
   "id": "a6fa4f77",
   "metadata": {},
   "source": [
    "# Exercici 7"
   ]
  },
  {
   "cell_type": "code",
   "execution_count": 35,
   "id": "0dd3e512",
   "metadata": {},
   "outputs": [
    {
     "name": "stdout",
     "output_type": "stream",
     "text": [
      "4\n"
     ]
    }
   ],
   "source": [
    "lista = [1,2,3,4]\n",
    "\n",
    "print(max(lista))"
   ]
  },
  {
   "cell_type": "markdown",
   "id": "7a2c1c1d",
   "metadata": {},
   "source": [
    "# Exercici 8"
   ]
  },
  {
   "cell_type": "code",
   "execution_count": 55,
   "id": "6fc0ce44",
   "metadata": {},
   "outputs": [
    {
     "name": "stdout",
     "output_type": "stream",
     "text": [
      "Letras: 9\n",
      "Digitos: 2\n",
      "Carácteres especiales: 6\n"
     ]
    }
   ],
   "source": [
    "string = \"&#Pr@j3ctE#D4M#&\"\n",
    "letras = digitos = caracteres = 0\n",
    "\n",
    "for i in range(len(string)):\n",
    "    if(string[i].isalpha()):\n",
    "        letras = alphabets + 1\n",
    "    elif(string[i].isdigit()):\n",
    "        digitos = digitos + 1\n",
    "    else:\n",
    "        caracteres = caracteres + 1\n",
    "        \n",
    "        \n",
    "print(\"Letras:\", letras)\n",
    "print(\"Digitos:\", digitos)\n",
    "print(\"Carácteres especiales:\", caracteres)"
   ]
  }
 ],
 "metadata": {
  "kernelspec": {
   "display_name": "Python 3 (ipykernel)",
   "language": "python",
   "name": "python3"
  },
  "language_info": {
   "codemirror_mode": {
    "name": "ipython",
    "version": 3
   },
   "file_extension": ".py",
   "mimetype": "text/x-python",
   "name": "python",
   "nbconvert_exporter": "python",
   "pygments_lexer": "ipython3",
   "version": "3.9.12"
  }
 },
 "nbformat": 4,
 "nbformat_minor": 5
}
